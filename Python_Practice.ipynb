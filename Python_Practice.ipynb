{
  "nbformat": 4,
  "nbformat_minor": 0,
  "metadata": {
    "colab": {
      "provenance": [],
      "authorship_tag": "ABX9TyMpDq8C+te28nRB5MualyK2",
      "include_colab_link": true
    },
    "kernelspec": {
      "name": "python3",
      "display_name": "Python 3"
    },
    "language_info": {
      "name": "python"
    }
  },
  "cells": [
    {
      "cell_type": "markdown",
      "metadata": {
        "id": "view-in-github",
        "colab_type": "text"
      },
      "source": [
        "<a href=\"https://colab.research.google.com/github/Hbrand03/HarshilBrindaResume/blob/Python/Python_Practice.ipynb\" target=\"_parent\"><img src=\"https://colab.research.google.com/assets/colab-badge.svg\" alt=\"Open In Colab\"/></a>"
      ]
    },
    {
      "cell_type": "markdown",
      "source": [
        "# Python Practice\n",
        "### Introductory code"
      ],
      "metadata": {
        "id": "6kMywweIe13V"
      }
    },
    {
      "cell_type": "markdown",
      "source": [
        "Write a program which prompts the user for a Celsius temperature, convert the temperature to Fahrenheit, and print out the\n",
        "converted temperature."
      ],
      "metadata": {
        "id": "MB7rB0-Bey0L"
      }
    },
    {
      "cell_type": "code",
      "execution_count": null,
      "metadata": {
        "id": "eSFHCpPNevJs"
      },
      "outputs": [],
      "source": [
        "C = float (input(\"Enter temperature in Celcius: \\n\") )\n",
        "F = (C * 9/5) + 32\n",
        "print (F)"
      ]
    },
    {
      "cell_type": "markdown",
      "source": [
        "Write a Python program to prompt for a score between 0 and 100. If the score is out of range, print an error message. If the score is\n",
        "between 0 and 100, print a grade using the following table"
      ],
      "metadata": {
        "id": "r6ehCS0_fOjq"
      }
    },
    {
      "cell_type": "code",
      "source": [
        "try:\n",
        "  score = float (input(\"Enter your score between 0-100: \"))\n",
        "\n",
        "  if score > 100 or score < 0:\n",
        "    print(\"Error message\")\n",
        "  elif score >= 90:\n",
        "    print(\"Grade A\")\n",
        "\n",
        "  elif score >= 80:\n",
        "    print(\"Grade B\")\n",
        "\n",
        "  elif score >= 70:\n",
        "    print(\"Grade C\")\n",
        "\n",
        "  elif score >= 60:\n",
        "    print(\"Grade D\")\n",
        "\n",
        "  elif score < 60:\n",
        "    print(\"Grade F\")\n",
        "except:\n",
        "  print(\"Error\")"
      ],
      "metadata": {
        "id": "PXv4GEBffSQ0"
      },
      "execution_count": null,
      "outputs": []
    },
    {
      "cell_type": "markdown",
      "source": [
        "Write a program which repeatedly reads numbers until the user enters “done”. Once “done” is entered, print out the sum of the numbers."
      ],
      "metadata": {
        "id": "OiBvtsLzhjvk"
      }
    },
    {
      "cell_type": "code",
      "source": [
        "number = 0\n",
        "while True:\n",
        "  line = input(\"Enter a number. To exit, enter done: \")\n",
        "  if line == \"done\":\n",
        "    break\n",
        "  number = number + float (line)\n",
        "  print(line)\n",
        "print(number)"
      ],
      "metadata": {
        "id": "eNM97UN6hwN8"
      },
      "execution_count": null,
      "outputs": []
    },
    {
      "cell_type": "markdown",
      "source": [
        "Write a function called discountedPrice() that prints - the price and the discount (as a percentage), and returns the discounted price."
      ],
      "metadata": {
        "id": "iUT65Yvph6wZ"
      }
    },
    {
      "cell_type": "code",
      "source": [
        "def discountedPrice(Price,discount):\n",
        "  if discount>100 or discount<0:\n",
        "    print(\"Invalid discount\")\n",
        "  else:\n",
        "    FinalPrice = Price * (1 - (discount/100))\n",
        "    return FinalPrice\n",
        "\n",
        "\n",
        "\n",
        "print(discountedPrice(100.0,10.0))\n",
        "print(discountedPrice(25.0,15.0))"
      ],
      "metadata": {
        "id": "68dJMFLn32YA"
      },
      "execution_count": null,
      "outputs": []
    },
    {
      "cell_type": "markdown",
      "source": [
        "Define a function that uses find and string slicing to extract the portion of the string after the colon character and then use the float function to convert the extracted string into a floating point number and returns it."
      ],
      "metadata": {
        "id": "uoYvbk-g-mf_"
      }
    },
    {
      "cell_type": "code",
      "source": [
        "str = \"X-DSPAM-Confidence:0.8475\"\n",
        "\n",
        "def numFind(s):\n",
        "  colonPos = s.find(\":\")\n",
        "  number = float (s[colonPos+1:])\n",
        "  return number\n",
        "\n",
        "numFind(str)\n",
        "\n",
        "#numFind(\"Price:10.20\")\n"
      ],
      "metadata": {
        "colab": {
          "base_uri": "https://localhost:8080/"
        },
        "id": "-N6mbBVK-8ac",
        "outputId": "ffd9133f-d5be-439d-9c9e-21bf5b96aac3"
      },
      "execution_count": null,
      "outputs": [
        {
          "output_type": "execute_result",
          "data": {
            "text/plain": [
              "0.8475"
            ]
          },
          "metadata": {},
          "execution_count": 4
        }
      ]
    },
    {
      "cell_type": "markdown",
      "source": [
        "Write a Python function that returns a list of words that are longer than an input n from an input sentence (string). Words are separated by spaces\n",
        "\n",
        "and include all the punctuation marks.\n",
        "For example, in the sentence, \"The quick brown fox jumps over the lazy dog\", for n = 3, the output is [\"quick\", \"brown\", \"jumps\", \"over\", \"lazy\"]"
      ],
      "metadata": {
        "id": "qtFHADvR_cb4"
      }
    },
    {
      "cell_type": "code",
      "source": [
        "#Write a Python function that returns a list of words that are longer than an input n from an input sentence (string). Words are separated by spaces and include all the punctuation marks.\n",
        "#For example, in the sentence, \"The quick brown fox jumps over the lazy dog\", for n = 3, the output is [\"quick\", \"brown\", \"jumps\", \"over\", \"lazy\"]\n",
        "\n",
        "def longWords(n, line):\n",
        "  tempList = line.split()\n",
        "  mainList = []\n",
        "  for i in tempList:\n",
        "    if len(i) > n:\n",
        "      mainList.append(i)\n",
        "  return mainList\n",
        "\n",
        "# Test 1\n",
        "print(longWords(3, \"The quick brown fox jumps over the lazy dog\")) # Should return [\"quick\", \"brown\", \"jumps\", \"over\", \"lazy\"]\n",
        "\n",
        "# Test 2\n",
        "print(longWords(7, \"Gentlemen, you can't fight in here! This is the war room\")) # Shoud return [\"Gentlemen\"]"
      ],
      "metadata": {
        "colab": {
          "base_uri": "https://localhost:8080/"
        },
        "id": "ff5IDaP7Jvur",
        "outputId": "5851de3f-6c5f-4c05-9b45-04b72cf4c897"
      },
      "execution_count": null,
      "outputs": [
        {
          "output_type": "stream",
          "name": "stdout",
          "text": [
            "['quick', 'brown', 'jumps', 'over', 'lazy']\n",
            "['Gentlemen,']\n"
          ]
        }
      ]
    },
    {
      "cell_type": "markdown",
      "source": [
        "Write a function that takes two inputs - a list of words, and a target word, and returns the number of times the target word occurs in the list."
      ],
      "metadata": {
        "id": "ttjW_T7OKWSd"
      }
    },
    {
      "cell_type": "code",
      "source": [
        "\"\"\"midterm.ipynb\n",
        "\n",
        "Automatically generated by Colaboratory.\n",
        "\n",
        "Original file is located at\n",
        "    https://colab.research.google.com/drive/1FhKelCoE3ZgPFeHCwwXAKBIAH_OnPnmM\n",
        "\"\"\"\n",
        "\n",
        "def wordcount(wordlist, target):\n",
        "  temp = 0\n",
        "  for i in range(len(wordlist)):\n",
        "    if wordlist[i] == target:\n",
        "      temp = temp + 1\n",
        "  return temp\n",
        "\n",
        "# Test 1\n",
        "l1 = [\"if\", \"you\", \"spend\", \"all\", \"your\", \"time\", \"arguing\", \"with\", \"people\", \"who\", \"are\", \"nuts\", \"you'll\", \"be\", \"exhausted\", \"and\", \"the\", \"nuts\", \"will\", \"still\", \"be\", \"nuts\"]\n",
        "print(wordcount(l1, \"nuts\")) # should print 3\n",
        "\n",
        "# Test 2\n",
        "print(wordcount(l1, \"whose\" )) # should print 0\n",
        "\n",
        "# Test 3\n",
        "print(wordcount(l1, \"you\")) # should print 1"
      ],
      "metadata": {
        "colab": {
          "base_uri": "https://localhost:8080/"
        },
        "id": "G6G8sUCDKpmh",
        "outputId": "e74ea303-4157-4dec-fc0a-c4e84f2592eb"
      },
      "execution_count": null,
      "outputs": [
        {
          "output_type": "stream",
          "name": "stdout",
          "text": [
            "3\n",
            "0\n",
            "1\n"
          ]
        }
      ]
    }
  ]
}