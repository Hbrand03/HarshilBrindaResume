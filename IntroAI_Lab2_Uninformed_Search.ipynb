{
  "nbformat": 4,
  "nbformat_minor": 0,
  "metadata": {
    "colab": {
      "provenance": [],
      "include_colab_link": true
    },
    "kernelspec": {
      "name": "python3",
      "display_name": "Python 3"
    },
    "language_info": {
      "name": "python"
    }
  },
  "cells": [
    {
      "cell_type": "markdown",
      "metadata": {
        "id": "view-in-github",
        "colab_type": "text"
      },
      "source": [
        "<a href=\"https://colab.research.google.com/github/Hbrand03/HarshilBrindaResume/blob/Python/IntroAI_Lab2_Uninformed_Search.ipynb\" target=\"_parent\"><img src=\"https://colab.research.google.com/assets/colab-badge.svg\" alt=\"Open In Colab\"/></a>"
      ]
    },
    {
      "cell_type": "markdown",
      "source": [
        "# Assignment 1: Uninformed Search\n",
        "\n",
        "In this assignment, we will learn:\n",
        "- What is a graph? How to representative a graph in data structure?\n",
        "- Implement Breadth First Search (BFS), Depth First Search (DFS) and Uniform Cost Search (UCS) algorithms to solve a maze problem\n",
        "\n",
        "**NOTE: When you refer online resources or AI tools, don't forget to cite and acknowledge them. Check our first class discussions and ask instructoirs if you need assistance.**"
      ],
      "metadata": {
        "id": "lGA6GspTMLmC"
      }
    },
    {
      "cell_type": "markdown",
      "source": [
        "# 1. GridWorld\n",
        "\n",
        "## 1.1. Graph and its representations\n",
        "\n",
        "![picture](https://drive.google.com/uc?id=1OvC2cuQifW1NHvGpLVWZLffpN0CJGFT8)\n",
        "\n",
        "From the example GridWorld above, we know that we can move from A to B or F; from B to A, C, or G; and so on. For computing, this GridWorld map needs to be stored in a data structure to easily access the map configuration. For this, graphs are frequently used representations that we can adopt.\n",
        "<br/><br/>\n",
        "A Graph is a non-linear data structure consisting of vertices and edges. The vertices are sometimes also referred to as nodes and the edges are lines or arcs that connect any two nodes in the graph. More formally a Graph is composed of a set of vertices( V ) and a set of edges( E ). The graph is denoted by G(V, E). (Read more: https://www.geeksforgeeks.org/introduction-to-graphs-data-structure-and-algorithm-tutorials)\n",
        "<br/><br/>\n",
        "Here, we create a graph using Adjacency List using Python dictionary. We assume the distance between the neighboring squares are all equal.\n",
        "<br/><br/>\n",
        "Follow the instructions and codes to prepare your own custom map and the corresponding graph for \"Search\"."
      ],
      "metadata": {
        "id": "0q1QvXmmMPOY"
      }
    },
    {
      "cell_type": "markdown",
      "source": [
        "### 1.2. Load a graph from txt file\n",
        "*This* is an example for a 3x3 GridWorld saved on graph1.txt file.\n",
        "\n",
        "The first line is the size of the maze (height and width). In the next lines, each character representive for a grid in the maze. We can move up, down, left, right between alphabet grid but can not access to * grid.\n",
        "\n",
        "<code>%%writefile</code> is a magic command in Jupyter Notebook to store the cell content. By running the cell below, you can create/ediit <code>graph1.txt</code>."
      ],
      "metadata": {
        "id": "IieIy6Y4jvxr"
      }
    },
    {
      "cell_type": "code",
      "source": [
        "%%writefile graph1.txt\n",
        "3 3\n",
        "A B C\n",
        "D * *\n",
        "* * E"
      ],
      "metadata": {
        "colab": {
          "base_uri": "https://localhost:8080/"
        },
        "id": "sFybQ3rKXNld",
        "outputId": "62a839e9-d6f7-477c-f3e7-586afd1df4f9"
      },
      "execution_count": null,
      "outputs": [
        {
          "output_type": "stream",
          "name": "stdout",
          "text": [
            "Overwriting graph1.txt\n"
          ]
        }
      ]
    },
    {
      "cell_type": "markdown",
      "source": [
        "From the graph1.txt file, the Adjacency List to represent that graph will look like:"
      ],
      "metadata": {
        "id": "AsbtvSgD0PnQ"
      }
    },
    {
      "cell_type": "code",
      "source": [
        "graph1 = {\n",
        "    \"A\": [\"B\", \"D\"],\n",
        "    \"B\": [\"A\", \"C\"],\n",
        "    \"C\": [\"B\"],\n",
        "    \"D\": [\"A\"],\n",
        "    \"E\": []\n",
        "}"
      ],
      "metadata": {
        "id": "fg7VkF8cj2pd"
      },
      "execution_count": null,
      "outputs": []
    },
    {
      "cell_type": "markdown",
      "source": [
        "Let's work with the bigger GridWorld 5x5, which will be stored in graph2.txt."
      ],
      "metadata": {
        "id": "V48yzIDo0cAN"
      }
    },
    {
      "cell_type": "code",
      "source": [
        "%%writefile graph2.txt\n",
        "5 5\n",
        "A B C D E\n",
        "F G * H I\n",
        "J K * L M\n",
        "N * * O P\n",
        "Q R S T U"
      ],
      "metadata": {
        "colab": {
          "base_uri": "https://localhost:8080/"
        },
        "id": "apMLidAuW2ZR",
        "outputId": "0973a284-1959-41e4-e357-9f781bd21a36"
      },
      "execution_count": null,
      "outputs": [
        {
          "output_type": "stream",
          "name": "stdout",
          "text": [
            "Overwriting graph2.txt\n"
          ]
        }
      ]
    },
    {
      "cell_type": "markdown",
      "source": [
        "<font color=\"green\">**Exercise 1:**</font> **Write Adjacency List**\n",
        "\n",
        "Now, referring graph1 example, write a dictionary to represent a graph from graph2.txt"
      ],
      "metadata": {
        "id": "vyVT3OeYzpcD"
      }
    },
    {
      "cell_type": "code",
      "source": [
        "graph2 = {\n",
        "    \"A\": [\"F\", \"B\"],\n",
        "    \"B\": [\"G\", \"A\", \"C\"],\n",
        "    \"C\": [\"B\", \"D\"],\n",
        "    \"D\": [\"H\", \"C\", \"E\"],\n",
        "    \"E\": [\"I\", \"D\"],\n",
        "    \"F\": [\"A\", \"J\", \"G\"],\n",
        "    \"G\": [\"B\", \"K\", \"F\"],\n",
        "    \"H\": [\"D\", \"L\", \"I\"],\n",
        "    \"I\": [\"E\", \"M\", \"H\"],\n",
        "    \"J\": [\"F\", \"N\", \"K\"],\n",
        "    \"K\": [\"G\", \"J\"],\n",
        "    \"L\": [\"H\", \"O\", \"M\"],\n",
        "    \"M\": [\"I\", \"P\", \"L\"],\n",
        "    \"N\": [\"J\", \"Q\"],\n",
        "    \"O\": [\"L\", \"T\", \"P\"],\n",
        "    \"P\": [\"M\", \"U\", \"O\"],\n",
        "    \"Q\": [\"N\", \"R\"],\n",
        "    \"R\": [\"Q\", \"S\"],\n",
        "    \"S\": [\"R\", \"T\"],\n",
        "    \"T\": [\"O\", \"S\", \"U\"],\n",
        "    \"U\": [\"P\", \"T\"]\n",
        "}\n"
      ],
      "metadata": {
        "id": "9tHmBgOz1GGS"
      },
      "execution_count": null,
      "outputs": []
    },
    {
      "cell_type": "markdown",
      "source": [
        "## 1.3. Load Graph By Code\n",
        "<font color=\"green\">**Exercise 2:**</font> Please complete the function <code>load_graph</code> that automatically constructs a graph (Adjacency List) from a graph text file as the examples above.\n",
        "* Input: a file name (E.g. graph1.txt)\n",
        "  * The first line has 2 integer numbers: height (h) and width (w) of a maze\n",
        "  * h next lines are the information of the maze.\n",
        "\n",
        "* Output: a dictionary\n",
        "  * key is a vertex\n",
        "  * value is a list of all connected vertices with that vertex (E.g. \"A\": [\"B\", \"D\"])\n"
      ],
      "metadata": {
        "id": "jdQtKkB8tpWV"
      }
    },
    {
      "cell_type": "code",
      "source": [
        "import numpy as np\n",
        "\n",
        "def load_graph(file_name):\n",
        "    with open(file_name, 'r') as file:\n",
        "        # Read the height and width from the first line\n",
        "        h, w = map(int, file.readline().split())\n",
        "\n",
        "        # Read the maze grid from the file into a list of lists\n",
        "        grid = [file.readline().split() for _ in range(h)]\n",
        "\n",
        "        # Initialize an empty dictionary for the graph\n",
        "        graph = {}\n",
        "\n",
        "        # Iterate over the grid to build the adjacency list\n",
        "        for i in range(h):\n",
        "            for j in range(w):\n",
        "                # Get the current vertex (if it's not a '*')\n",
        "                if grid[i][j] != '*':\n",
        "                    vertex = grid[i][j]\n",
        "                    neighbors = []\n",
        "\n",
        "                    # Check all four possible directions: up, down, left, right\n",
        "                    if i > 0 and grid[i - 1][j] != '*':  # up\n",
        "                        neighbors.append(grid[i - 1][j])\n",
        "                    if i < h - 1 and grid[i + 1][j] != '*':  # down\n",
        "                        neighbors.append(grid[i + 1][j])\n",
        "                    if j > 0 and grid[i][j - 1] != '*':  # left\n",
        "                        neighbors.append(grid[i][j - 1])\n",
        "                    if j < w - 1 and grid[i][j + 1] != '*':  # right\n",
        "                        neighbors.append(grid[i][j + 1])\n",
        "\n",
        "                    # Add the vertex and its neighbors to the graph\n",
        "                    graph[vertex] = neighbors\n",
        "\n",
        "        return graph\n",
        "\n",
        "# Example usage:\n",
        "# graph = load_graph('graph2.txt')\n",
        "# print(graph)\n"
      ],
      "metadata": {
        "id": "OctrR3TX_xlW"
      },
      "execution_count": null,
      "outputs": []
    },
    {
      "cell_type": "markdown",
      "source": [
        "# The function <code>compare_graph</code> will help you compare the graph loaded by your code and what we created manually before.\n",
        "\n",
        "\n"
      ],
      "metadata": {
        "id": "6Nw765qBUOjh"
      }
    },
    {
      "cell_type": "code",
      "source": [
        "\"\"\"\n",
        "This function will compares 2 graphs\n",
        "We will use it to verify load_graph function with graph we created manually before.\n",
        "\"\"\"\n",
        "\n",
        "def compare_graph(g1, g2):\n",
        "  # Check length of keys list between 2 dictionaries\n",
        "  if len(g1.keys()) != len(g2.keys()):\n",
        "    return False\n",
        "\n",
        "  # Compare array for each list\n",
        "  for i in g1.keys():\n",
        "    arr1 = sorted(g1[i])\n",
        "    arr2 = sorted(g2[i])\n",
        "    if arr1 != arr2:\n",
        "      return False\n",
        "\n",
        "  return True"
      ],
      "metadata": {
        "id": "n2fZYZW59nZS"
      },
      "execution_count": null,
      "outputs": []
    },
    {
      "cell_type": "markdown",
      "source": [
        "Run below code to check with graph1.txt"
      ],
      "metadata": {
        "id": "8gNLzLY8jSba"
      }
    },
    {
      "cell_type": "code",
      "source": [
        "graph1_from_code = load_graph(\"graph1.txt\")\n",
        "graph1 = {\n",
        "    \"A\": [\"B\", \"D\"],\n",
        "    \"B\": [\"A\", \"C\"],\n",
        "    \"C\": [\"B\"],\n",
        "    \"D\": [\"A\"],\n",
        "    \"E\": []\n",
        "}\n",
        "\n",
        "if compare_graph(graph1, graph1_from_code):\n",
        "  print(\"Graph1 Correct. Good job!\")\n",
        "else:\n",
        "  print(\"Graph1 Incorrect. Please check again!\")"
      ],
      "metadata": {
        "colab": {
          "base_uri": "https://localhost:8080/"
        },
        "id": "UubfrhKj7ypE",
        "outputId": "b66eeabe-bd0b-48ca-ff57-b3f15ec75a90"
      },
      "execution_count": null,
      "outputs": [
        {
          "output_type": "stream",
          "name": "stdout",
          "text": [
            "Graph1 Correct. Good job!\n"
          ]
        }
      ]
    },
    {
      "cell_type": "markdown",
      "source": [
        "## 1.4. Testing\n",
        "\n",
        "Now, let's test with graph2.txt"
      ],
      "metadata": {
        "id": "Ed0gIsQVCZ4Y"
      }
    },
    {
      "cell_type": "code",
      "source": [
        "# Compare graph2\n",
        "graph2_from_code = load_graph(\"graph2.txt\")\n",
        "if compare_graph(graph2, graph2_from_code):\n",
        "  print(\"Graph2 Correct. Good job!\")\n",
        "else:\n",
        "  print(\"Graph2 Incorrect. Please check again!\")\n"
      ],
      "metadata": {
        "colab": {
          "base_uri": "https://localhost:8080/"
        },
        "id": "Q_QiyUZYBL-i",
        "outputId": "f600c0d9-b2da-4a6e-e81b-b5a7ea88e431"
      },
      "execution_count": null,
      "outputs": [
        {
          "output_type": "stream",
          "name": "stdout",
          "text": [
            "Graph2 Correct. Good job!\n"
          ]
        }
      ]
    },
    {
      "cell_type": "markdown",
      "source": [
        "#2. BFS, DFS, and Dijkstra\n",
        "This super class SearchAlgorithm will define common functions for all search algorthims.\n",
        "\n",
        "To trace and print the route, we use a trace dictionary to save the information. For example, <code>trace[\"H\"] = \"L\"</code> means L is the previous node of H in the route."
      ],
      "metadata": {
        "id": "4kaRLu4C4s1g"
      }
    },
    {
      "cell_type": "code",
      "source": [
        "from abc import ABC, abstractmethod\n",
        "\n",
        "\n",
        "class SearchAlgorithm(ABC):\n",
        "  def __init__(self, graph, start, goal):\n",
        "    \"\"\"\n",
        "      - graph: graph data from previour section\n",
        "      - start: start vertex. E.g. \"L\" grid\n",
        "      - goal: goal vertex. E.g. \"G\" grid\n",
        "      - visited: visited array\n",
        "      - trace: a dictionary to save the route\n",
        "    \"\"\"\n",
        "    self.graph = graph\n",
        "    self.start = start\n",
        "    self.goal = goal\n",
        "    self.visited = []\n",
        "    self.trace = {}\n",
        "\n",
        "  @abstractmethod\n",
        "  def find_solution(self):\n",
        "    \"\"\"\n",
        "    Find the solution with BFS\n",
        "    - if found a solution, return True and update the trace dictionary\n",
        "    - return False if no solution found\n",
        "    \"\"\"\n",
        "    return False\n",
        "\n",
        "  def print_result(self):\n",
        "    \"\"\"\n",
        "    Print the route from Start to Goal\n",
        "    \"\"\"\n",
        "    temp = self.goal\n",
        "    while temp != self.start:\n",
        "      print(temp,\"<-\", end =\" \")\n",
        "      temp = self.trace[temp]\n",
        "    print(temp)"
      ],
      "metadata": {
        "id": "psmsY1W2EBNE"
      },
      "execution_count": null,
      "outputs": []
    },
    {
      "cell_type": "markdown",
      "source": [
        "# 2.1. Breadth First Search (BFS)\n",
        "\n",
        "<font color=\"green\">**Exercise 3:**</font> Now, let's extend `SearchAlgorithm` abstract class to implement BFS algorithm to find the shortest path from Start grid to Goal grid.\n",
        "\n",
        "*Hint: You can override <code>__init__</code> function to support frontier queue (FIFO) to save all vertices we need to visit until reaching the goal*"
      ],
      "metadata": {
        "id": "xGy_u5KsD-ot"
      }
    },
    {
      "cell_type": "code",
      "source": [
        "from collections import deque\n",
        "\n",
        "class BFS(SearchAlgorithm):\n",
        "\n",
        "    def __init__(self, graph, start, goal):\n",
        "        super().__init__(graph, start, goal)\n",
        "        self.frontier = deque([start])\n",
        "\n",
        "    def find_solution(self):\n",
        "        self.visited.append(self.start)\n",
        "\n",
        "        while self.frontier:\n",
        "            current = self.frontier.popleft()\n",
        "\n",
        "            if current == self.goal:\n",
        "                return True\n",
        "\n",
        "\n",
        "            for neighbor in self.graph[current]:\n",
        "                if neighbor not in self.visited:\n",
        "                    self.visited.append(neighbor)\n",
        "                    self.frontier.append(neighbor)\n",
        "                    self.trace[neighbor] = current\n",
        "\n",
        "        return False\n"
      ],
      "metadata": {
        "id": "GX600oD5WB7_"
      },
      "execution_count": null,
      "outputs": []
    },
    {
      "cell_type": "markdown",
      "source": [
        "Please run below code to make sure your class works well and print the result."
      ],
      "metadata": {
        "id": "k68Fn1_dPDU0"
      }
    },
    {
      "cell_type": "code",
      "source": [
        "bfs = BFS(graph2, \"L\", \"G\")\n",
        "if bfs.find_solution():\n",
        "  bfs.print_result()\n",
        "else:\n",
        "  print(\"No solution found!\")"
      ],
      "metadata": {
        "colab": {
          "base_uri": "https://localhost:8080/"
        },
        "id": "TiONn6QzPFPP",
        "outputId": "08b93c7b-1c91-4b3a-d3ea-cb5ebfdfa570"
      },
      "execution_count": null,
      "outputs": [
        {
          "output_type": "stream",
          "name": "stdout",
          "text": [
            "G <- B <- C <- D <- H <- L\n"
          ]
        }
      ]
    },
    {
      "cell_type": "markdown",
      "source": [
        "<font color=\"red\"> When your BFS is correctly implemented, your test output above should be:  </font><br/>\n",
        "G <- B <- C <- D <- H <- L"
      ],
      "metadata": {
        "id": "tZLODcJtODxr"
      }
    },
    {
      "cell_type": "markdown",
      "source": [
        "# 2.2. Depth First Search (DFS)\n",
        "\n",
        "<font color=\"green\">**Exercise 4:**</font> Now, let's extend `SearchAlgorithm` abstract class to implmenet DFS algorithm to find the shortest path from Start grid to Goal grid."
      ],
      "metadata": {
        "id": "4HY2eQzjOS1F"
      }
    },
    {
      "cell_type": "code",
      "source": [
        "class DFS(SearchAlgorithm):\n",
        "    def __init__(self, graph, start, goal):\n",
        "        super().__init__(graph, start, goal)\n",
        "        self.frontier = [start]  # Stack for DFS\n",
        "\n",
        "    def find_solution(self):\n",
        "        self.visited.append(self.start)\n",
        "\n",
        "        while self.frontier:\n",
        "            current = self.frontier.pop()\n",
        "\n",
        "            if current == self.goal:\n",
        "                return True\n",
        "\n",
        "            for neighbor in reversed(self.graph[current]):  # Reverse the order\n",
        "                if neighbor not in self.visited:\n",
        "                    self.visited.append(neighbor)\n",
        "                    self.frontier.append(neighbor)\n",
        "                    self.trace[neighbor] = current\n",
        "\n",
        "        return False\n"
      ],
      "metadata": {
        "id": "JJqAchQkXgrb"
      },
      "execution_count": null,
      "outputs": []
    },
    {
      "cell_type": "markdown",
      "source": [
        "Please run below code to make sure your class works perfectly and print the result.\n",
        "\n",
        "*Note: the answer doesn't need to be the same with the slide, because we don't always choose the node farthest from the start node.*"
      ],
      "metadata": {
        "id": "nLE-pwfMNgZV"
      }
    },
    {
      "cell_type": "code",
      "source": [
        "dfs = DFS(graph2, \"L\", \"G\")\n",
        "if dfs.find_solution():\n",
        "  dfs.print_result()\n",
        "else:\n",
        "  print(\"No solution found!\")"
      ],
      "metadata": {
        "colab": {
          "base_uri": "https://localhost:8080/"
        },
        "id": "BTB0ZniQWXSu",
        "outputId": "d89e7752-0b8c-4edd-afd8-716eb7d64a3b"
      },
      "execution_count": null,
      "outputs": [
        {
          "output_type": "stream",
          "name": "stdout",
          "text": [
            "G <- B <- C <- D <- H <- L\n"
          ]
        }
      ]
    },
    {
      "cell_type": "markdown",
      "source": [
        "<font color=\"red\"> When your DFS is correctly implemented, your test output above should be:  </font><br/>\n",
        "G <- F <- A <- B <- C <- D <- H <- L"
      ],
      "metadata": {
        "id": "b34hydc1N_1C"
      }
    },
    {
      "cell_type": "markdown",
      "source": [
        "# 2.3. Uniform Cost Search (or Dijkstra)\n",
        "\n",
        "In this section, we will implement Dijkstra’s algorithm to find the lowest cost between 2 nodes in the graph.\n",
        "\n",
        "## 2.3.1. Graph with cost\n",
        "\n",
        "![picture](https://drive.google.com/uc?id=1Dvns4ud0_yi6twrFOgi_TgCQIoSx-Kax)\n",
        "\n",
        "We need to update a little bit the Adjacency List to include the cost of each edge."
      ],
      "metadata": {
        "id": "0FYsgQIJBLOd"
      }
    },
    {
      "cell_type": "code",
      "source": [
        "graph3 = {\n",
        "    \"S\": {\"A\": 1, \"G\": 12},\n",
        "    \"A\": {\"B\": 3, \"C\": 1},\n",
        "    \"B\": {\"D\": 3},\n",
        "    \"C\": {\"D\": 1, \"G\": 2},\n",
        "    \"D\": {\"G\": 3},\n",
        "    \"G\": {}\n",
        "}"
      ],
      "metadata": {
        "id": "QaiypOMkCtzh"
      },
      "execution_count": null,
      "outputs": []
    },
    {
      "cell_type": "markdown",
      "source": [
        "## 2.3.2. Implement code\n",
        "\n",
        "<font color=\"green\">**Exercise 5:**</font> Now, let's extend SearchAlgorithm abstract class to implmenet Dijkstra algorithm to find the path with lowest cost from Start grid to Goal grid."
      ],
      "metadata": {
        "id": "2WciBx_WzT-y"
      }
    },
    {
      "cell_type": "code",
      "source": [
        "import heapq\n",
        "\n",
        "class Dijkstra(SearchAlgorithm):\n",
        "    \"\"\"\n",
        "    Dijkstra Algorithm\n",
        "    - graph: adjacency list with costs\n",
        "    - start: start vertex (e.g., \"L\")\n",
        "    - goal: goal vertex (e.g., \"G\")\n",
        "    - distance: a dictionary to store the minimum distance from the start node\n",
        "    \"\"\"\n",
        "\n",
        "    def __init__(self, graph, start, goal):\n",
        "        super().__init__(graph, start, goal)\n",
        "        self.distance = {i: float('inf') for i in graph.keys()}\n",
        "        self.distance[self.start] = 0\n",
        "        self.frontier = []\n",
        "        heapq.heappush(self.frontier, (0, start))\n",
        "\n",
        "    def find_solution(self):\n",
        "        \"\"\"\n",
        "        Find the solution with Dijkstra's algorithm\n",
        "        \"\"\"\n",
        "        while self.frontier:\n",
        "            current_cost, current_node = heapq.heappop(self.frontier)\n",
        "\n",
        "            if current_node == self.goal:\n",
        "                return True\n",
        "\n",
        "            for neighbor, cost in self.graph[current_node].items():\n",
        "                new_cost = current_cost + cost\n",
        "\n",
        "                if new_cost < self.distance[neighbor]:\n",
        "                    self.distance[neighbor] = new_cost\n",
        "                    self.trace[neighbor] = current_node\n",
        "                    heapq.heappush(self.frontier, (new_cost, neighbor))\n",
        "\n",
        "        return False\n",
        "\n",
        "    def print_result(self):\n",
        "        \"\"\"\n",
        "        Print the route from Start to Goal with distances\n",
        "        \"\"\"\n",
        "        temp = self.goal\n",
        "        while temp != self.start:\n",
        "            print(temp, \"(distance: \" + str(self.distance[temp]) + \") <-\", end=\" \")\n",
        "            temp = self.trace[temp]\n",
        "        print(temp, \"(distance: \" + str(self.distance[temp]) + \")\")\n"
      ],
      "metadata": {
        "id": "_YKCDtFGZDDM"
      },
      "execution_count": null,
      "outputs": []
    },
    {
      "cell_type": "markdown",
      "source": [
        "Please run this code to make sure your class works perfectly and print the result."
      ],
      "metadata": {
        "id": "f40G6Ge6yMIf"
      }
    },
    {
      "cell_type": "code",
      "source": [
        "ucs = Dijkstra(graph3, \"S\", \"G\")\n",
        "ucs.find_solution()\n",
        "ucs.print_result()"
      ],
      "metadata": {
        "colab": {
          "base_uri": "https://localhost:8080/"
        },
        "id": "3CahGG1yyPDQ",
        "outputId": "d64e2aa4-5307-4124-c479-70e9fd81dd24"
      },
      "execution_count": null,
      "outputs": [
        {
          "output_type": "stream",
          "name": "stdout",
          "text": [
            "G (distance: 4) <- C (distance: 2) <- A (distance: 1) <- S (distance: 0)\n"
          ]
        }
      ]
    },
    {
      "cell_type": "markdown",
      "source": [
        "<font color=\"red\"> When your DFS is correctly implmented, your test output above should be:  </font><br/>\n",
        "\n",
        "G (distance: 4) <- C (distance: 2) <- A (distance: 1) <- S (distance: 0)"
      ],
      "metadata": {
        "id": "DK3jvGKDyYyK"
      }
    },
    {
      "cell_type": "markdown",
      "source": [
        "# 4. Complexity Analysis\n",
        "<font color=\"green\">**Exercise 6:**</font> **What is the time and space complexity of BFS, DFS and Dijkstra that you have implemented? Explain your answer.**\n",
        "\n",
        "Your Answer: BFS has a time complexity of O(V+E) because it visits each vertex and edge once, and space complexity of O(V) due to the queue and visited list.\n",
        "\n",
        "DFS also has a time complexity of O(V+E) for exploring vertices and edges, with space complexity of O(V) due to the recursion stack and visited list.\n",
        "\n",
        "Dijkstra's algorithm has a time complexity of O((V+E)logV) because of the priority queue operations, and a space complexity\n",
        "O(V+E) for storing distances, paths, and the queue."
      ],
      "metadata": {
        "id": "ix6FOOTgOKl6"
      }
    }
  ]
}